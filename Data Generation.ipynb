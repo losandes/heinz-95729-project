{
 "cells": [
  {
   "cell_type": "code",
   "execution_count": 1,
   "id": "e46bd496",
   "metadata": {},
   "outputs": [
    {
     "data": {
      "text/plain": [
       "True"
      ]
     },
     "execution_count": 1,
     "metadata": {},
     "output_type": "execute_result"
    }
   ],
   "source": [
    "import openai\n",
    "import requests\n",
    "import pandas as pd\n",
    "import numpy as np\n",
    "import os\n",
    "import time\n",
    "import matplotlib.pyplot as plt\n",
    "from PIL import Image\n",
    "from io import BytesIO\n",
    "from dotenv import load_dotenv   #for python-dotenv method\n",
    "load_dotenv()      "
   ]
  },
  {
   "cell_type": "code",
   "execution_count": 2,
   "id": "659d7d2c",
   "metadata": {},
   "outputs": [],
   "source": [
    "openai.api_key = os.getenv(\"API_KEY\")"
   ]
  },
  {
   "cell_type": "code",
   "execution_count": 3,
   "id": "bdc2e5f5",
   "metadata": {},
   "outputs": [],
   "source": [
    "data = pd.read_csv(\"data.csv\", encoding= 'unicode_escape')"
   ]
  },
  {
   "cell_type": "code",
   "execution_count": 4,
   "id": "1e59f23c",
   "metadata": {},
   "outputs": [
    {
     "data": {
      "text/html": [
       "<div>\n",
       "<style scoped>\n",
       "    .dataframe tbody tr th:only-of-type {\n",
       "        vertical-align: middle;\n",
       "    }\n",
       "\n",
       "    .dataframe tbody tr th {\n",
       "        vertical-align: top;\n",
       "    }\n",
       "\n",
       "    .dataframe thead th {\n",
       "        text-align: right;\n",
       "    }\n",
       "</style>\n",
       "<table border=\"1\" class=\"dataframe\">\n",
       "  <thead>\n",
       "    <tr style=\"text-align: right;\">\n",
       "      <th></th>\n",
       "      <th>InvoiceNo</th>\n",
       "      <th>StockCode</th>\n",
       "      <th>Description</th>\n",
       "      <th>Quantity</th>\n",
       "      <th>InvoiceDate</th>\n",
       "      <th>UnitPrice</th>\n",
       "      <th>CustomerID</th>\n",
       "      <th>Country</th>\n",
       "    </tr>\n",
       "  </thead>\n",
       "  <tbody>\n",
       "    <tr>\n",
       "      <th>0</th>\n",
       "      <td>536365</td>\n",
       "      <td>85123A</td>\n",
       "      <td>WHITE HANGING HEART T-LIGHT HOLDER</td>\n",
       "      <td>6</td>\n",
       "      <td>12/1/2010 8:26</td>\n",
       "      <td>2.55</td>\n",
       "      <td>17850.0</td>\n",
       "      <td>United Kingdom</td>\n",
       "    </tr>\n",
       "    <tr>\n",
       "      <th>1</th>\n",
       "      <td>536365</td>\n",
       "      <td>71053</td>\n",
       "      <td>WHITE METAL LANTERN</td>\n",
       "      <td>6</td>\n",
       "      <td>12/1/2010 8:26</td>\n",
       "      <td>3.39</td>\n",
       "      <td>17850.0</td>\n",
       "      <td>United Kingdom</td>\n",
       "    </tr>\n",
       "    <tr>\n",
       "      <th>2</th>\n",
       "      <td>536365</td>\n",
       "      <td>84406B</td>\n",
       "      <td>CREAM CUPID HEARTS COAT HANGER</td>\n",
       "      <td>8</td>\n",
       "      <td>12/1/2010 8:26</td>\n",
       "      <td>2.75</td>\n",
       "      <td>17850.0</td>\n",
       "      <td>United Kingdom</td>\n",
       "    </tr>\n",
       "    <tr>\n",
       "      <th>3</th>\n",
       "      <td>536365</td>\n",
       "      <td>84029G</td>\n",
       "      <td>KNITTED UNION FLAG HOT WATER BOTTLE</td>\n",
       "      <td>6</td>\n",
       "      <td>12/1/2010 8:26</td>\n",
       "      <td>3.39</td>\n",
       "      <td>17850.0</td>\n",
       "      <td>United Kingdom</td>\n",
       "    </tr>\n",
       "    <tr>\n",
       "      <th>4</th>\n",
       "      <td>536365</td>\n",
       "      <td>84029E</td>\n",
       "      <td>RED WOOLLY HOTTIE WHITE HEART.</td>\n",
       "      <td>6</td>\n",
       "      <td>12/1/2010 8:26</td>\n",
       "      <td>3.39</td>\n",
       "      <td>17850.0</td>\n",
       "      <td>United Kingdom</td>\n",
       "    </tr>\n",
       "  </tbody>\n",
       "</table>\n",
       "</div>"
      ],
      "text/plain": [
       "  InvoiceNo StockCode                          Description  Quantity  \\\n",
       "0    536365    85123A   WHITE HANGING HEART T-LIGHT HOLDER         6   \n",
       "1    536365     71053                  WHITE METAL LANTERN         6   \n",
       "2    536365    84406B       CREAM CUPID HEARTS COAT HANGER         8   \n",
       "3    536365    84029G  KNITTED UNION FLAG HOT WATER BOTTLE         6   \n",
       "4    536365    84029E       RED WOOLLY HOTTIE WHITE HEART.         6   \n",
       "\n",
       "      InvoiceDate  UnitPrice  CustomerID         Country  \n",
       "0  12/1/2010 8:26       2.55     17850.0  United Kingdom  \n",
       "1  12/1/2010 8:26       3.39     17850.0  United Kingdom  \n",
       "2  12/1/2010 8:26       2.75     17850.0  United Kingdom  \n",
       "3  12/1/2010 8:26       3.39     17850.0  United Kingdom  \n",
       "4  12/1/2010 8:26       3.39     17850.0  United Kingdom  "
      ]
     },
     "execution_count": 4,
     "metadata": {},
     "output_type": "execute_result"
    }
   ],
   "source": [
    "data.head()"
   ]
  },
  {
   "cell_type": "code",
   "execution_count": 5,
   "id": "b58adec0",
   "metadata": {},
   "outputs": [
    {
     "data": {
      "text/html": [
       "<div>\n",
       "<style scoped>\n",
       "    .dataframe tbody tr th:only-of-type {\n",
       "        vertical-align: middle;\n",
       "    }\n",
       "\n",
       "    .dataframe tbody tr th {\n",
       "        vertical-align: top;\n",
       "    }\n",
       "\n",
       "    .dataframe thead th {\n",
       "        text-align: right;\n",
       "    }\n",
       "</style>\n",
       "<table border=\"1\" class=\"dataframe\">\n",
       "  <thead>\n",
       "    <tr style=\"text-align: right;\">\n",
       "      <th></th>\n",
       "      <th>Quantity</th>\n",
       "      <th>UnitPrice</th>\n",
       "      <th>CustomerID</th>\n",
       "    </tr>\n",
       "  </thead>\n",
       "  <tbody>\n",
       "    <tr>\n",
       "      <th>count</th>\n",
       "      <td>541909.000000</td>\n",
       "      <td>541909.000000</td>\n",
       "      <td>406829.000000</td>\n",
       "    </tr>\n",
       "    <tr>\n",
       "      <th>mean</th>\n",
       "      <td>9.552250</td>\n",
       "      <td>4.611114</td>\n",
       "      <td>15287.690570</td>\n",
       "    </tr>\n",
       "    <tr>\n",
       "      <th>std</th>\n",
       "      <td>218.081158</td>\n",
       "      <td>96.759853</td>\n",
       "      <td>1713.600303</td>\n",
       "    </tr>\n",
       "    <tr>\n",
       "      <th>min</th>\n",
       "      <td>-80995.000000</td>\n",
       "      <td>-11062.060000</td>\n",
       "      <td>12346.000000</td>\n",
       "    </tr>\n",
       "    <tr>\n",
       "      <th>25%</th>\n",
       "      <td>1.000000</td>\n",
       "      <td>1.250000</td>\n",
       "      <td>13953.000000</td>\n",
       "    </tr>\n",
       "    <tr>\n",
       "      <th>50%</th>\n",
       "      <td>3.000000</td>\n",
       "      <td>2.080000</td>\n",
       "      <td>15152.000000</td>\n",
       "    </tr>\n",
       "    <tr>\n",
       "      <th>75%</th>\n",
       "      <td>10.000000</td>\n",
       "      <td>4.130000</td>\n",
       "      <td>16791.000000</td>\n",
       "    </tr>\n",
       "    <tr>\n",
       "      <th>max</th>\n",
       "      <td>80995.000000</td>\n",
       "      <td>38970.000000</td>\n",
       "      <td>18287.000000</td>\n",
       "    </tr>\n",
       "  </tbody>\n",
       "</table>\n",
       "</div>"
      ],
      "text/plain": [
       "            Quantity      UnitPrice     CustomerID\n",
       "count  541909.000000  541909.000000  406829.000000\n",
       "mean        9.552250       4.611114   15287.690570\n",
       "std       218.081158      96.759853    1713.600303\n",
       "min    -80995.000000  -11062.060000   12346.000000\n",
       "25%         1.000000       1.250000   13953.000000\n",
       "50%         3.000000       2.080000   15152.000000\n",
       "75%        10.000000       4.130000   16791.000000\n",
       "max     80995.000000   38970.000000   18287.000000"
      ]
     },
     "execution_count": 5,
     "metadata": {},
     "output_type": "execute_result"
    }
   ],
   "source": [
    "data.describe()"
   ]
  },
  {
   "cell_type": "code",
   "execution_count": 8,
   "id": "1938544c",
   "metadata": {},
   "outputs": [
    {
     "name": "stdout",
     "output_type": "stream",
     "text": [
      "1\n",
      "2\n",
      "3\n",
      "4\n",
      "5\n",
      "6\n"
     ]
    },
    {
     "ename": "RateLimitError",
     "evalue": "Rate limit reached for images per minute. Limit: 20/1min. Current: 21/1min. Please visit https://help.openai.com/en/articles/6696591 to learn how to increase your rate limit.",
     "output_type": "error",
     "traceback": [
      "\u001b[1;31m---------------------------------------------------------------------------\u001b[0m",
      "\u001b[1;31mRateLimitError\u001b[0m                            Traceback (most recent call last)",
      "\u001b[1;32mc:\\Users\\shrey\\Documents\\CMU\\Fall22\\Ecomm, ML\\perennial-tech-with-ml\\Data Generation.ipynb Cell 6\u001b[0m in \u001b[0;36m<module>\u001b[1;34m\u001b[0m\n\u001b[0;32m      <a href='vscode-notebook-cell:/c%3A/Users/shrey/Documents/CMU/Fall22/Ecomm%2C%20ML/perennial-tech-with-ml/Data%20Generation.ipynb#W5sZmlsZQ%3D%3D?line=2'>3</a>\u001b[0m i\u001b[39m=\u001b[39m\u001b[39m0\u001b[39m\n\u001b[0;32m      <a href='vscode-notebook-cell:/c%3A/Users/shrey/Documents/CMU/Fall22/Ecomm%2C%20ML/perennial-tech-with-ml/Data%20Generation.ipynb#W5sZmlsZQ%3D%3D?line=3'>4</a>\u001b[0m \u001b[39mfor\u001b[39;00m desc \u001b[39min\u001b[39;00m data[\u001b[39m'\u001b[39m\u001b[39mDescription\u001b[39m\u001b[39m'\u001b[39m][\u001b[39m5\u001b[39m:\u001b[39m500\u001b[39m]:\n\u001b[1;32m----> <a href='vscode-notebook-cell:/c%3A/Users/shrey/Documents/CMU/Fall22/Ecomm%2C%20ML/perennial-tech-with-ml/Data%20Generation.ipynb#W5sZmlsZQ%3D%3D?line=4'>5</a>\u001b[0m     response \u001b[39m=\u001b[39m openai\u001b[39m.\u001b[39;49mImage\u001b[39m.\u001b[39;49mcreate(\n\u001b[0;32m      <a href='vscode-notebook-cell:/c%3A/Users/shrey/Documents/CMU/Fall22/Ecomm%2C%20ML/perennial-tech-with-ml/Data%20Generation.ipynb#W5sZmlsZQ%3D%3D?line=5'>6</a>\u001b[0m       prompt\u001b[39m=\u001b[39;49mdesc,\n\u001b[0;32m      <a href='vscode-notebook-cell:/c%3A/Users/shrey/Documents/CMU/Fall22/Ecomm%2C%20ML/perennial-tech-with-ml/Data%20Generation.ipynb#W5sZmlsZQ%3D%3D?line=6'>7</a>\u001b[0m       n\u001b[39m=\u001b[39;49m\u001b[39m3\u001b[39;49m,\n\u001b[0;32m      <a href='vscode-notebook-cell:/c%3A/Users/shrey/Documents/CMU/Fall22/Ecomm%2C%20ML/perennial-tech-with-ml/Data%20Generation.ipynb#W5sZmlsZQ%3D%3D?line=7'>8</a>\u001b[0m       size\u001b[39m=\u001b[39;49m\u001b[39m\"\u001b[39;49m\u001b[39m512x512\u001b[39;49m\u001b[39m\"\u001b[39;49m\n\u001b[0;32m      <a href='vscode-notebook-cell:/c%3A/Users/shrey/Documents/CMU/Fall22/Ecomm%2C%20ML/perennial-tech-with-ml/Data%20Generation.ipynb#W5sZmlsZQ%3D%3D?line=8'>9</a>\u001b[0m     )\n\u001b[0;32m     <a href='vscode-notebook-cell:/c%3A/Users/shrey/Documents/CMU/Fall22/Ecomm%2C%20ML/perennial-tech-with-ml/Data%20Generation.ipynb#W5sZmlsZQ%3D%3D?line=9'>10</a>\u001b[0m     current_urls \u001b[39m=\u001b[39m [x[\u001b[39m'\u001b[39m\u001b[39murl\u001b[39m\u001b[39m'\u001b[39m] \u001b[39mfor\u001b[39;00m x \u001b[39min\u001b[39;00m response[\u001b[39m'\u001b[39m\u001b[39mdata\u001b[39m\u001b[39m'\u001b[39m]]\n\u001b[0;32m     <a href='vscode-notebook-cell:/c%3A/Users/shrey/Documents/CMU/Fall22/Ecomm%2C%20ML/perennial-tech-with-ml/Data%20Generation.ipynb#W5sZmlsZQ%3D%3D?line=10'>11</a>\u001b[0m     urls\u001b[39m.\u001b[39mappend(current_urls)\n",
      "File \u001b[1;32mc:\\Users\\shrey\\AppData\\Local\\Programs\\Python\\Python39\\lib\\site-packages\\openai\\api_resources\\image.py:22\u001b[0m, in \u001b[0;36mImage.create\u001b[1;34m(cls, **params)\u001b[0m\n\u001b[0;32m     16\u001b[0m \u001b[39m@classmethod\u001b[39m\n\u001b[0;32m     17\u001b[0m \u001b[39mdef\u001b[39;00m \u001b[39mcreate\u001b[39m(\n\u001b[0;32m     18\u001b[0m     \u001b[39mcls\u001b[39m,\n\u001b[0;32m     19\u001b[0m     \u001b[39m*\u001b[39m\u001b[39m*\u001b[39mparams,\n\u001b[0;32m     20\u001b[0m ):\n\u001b[0;32m     21\u001b[0m     instance \u001b[39m=\u001b[39m \u001b[39mcls\u001b[39m()\n\u001b[1;32m---> 22\u001b[0m     \u001b[39mreturn\u001b[39;00m instance\u001b[39m.\u001b[39;49mrequest(\u001b[39m\"\u001b[39;49m\u001b[39mpost\u001b[39;49m\u001b[39m\"\u001b[39;49m, \u001b[39mcls\u001b[39;49m\u001b[39m.\u001b[39;49m_get_url(\u001b[39m\"\u001b[39;49m\u001b[39mgenerations\u001b[39;49m\u001b[39m\"\u001b[39;49m), params)\n",
      "File \u001b[1;32mc:\\Users\\shrey\\AppData\\Local\\Programs\\Python\\Python39\\lib\\site-packages\\openai\\openai_object.py:179\u001b[0m, in \u001b[0;36mOpenAIObject.request\u001b[1;34m(self, method, url, params, headers, stream, plain_old_data, request_id, request_timeout)\u001b[0m\n\u001b[0;32m    171\u001b[0m     params \u001b[39m=\u001b[39m \u001b[39mself\u001b[39m\u001b[39m.\u001b[39m_retrieve_params\n\u001b[0;32m    172\u001b[0m requestor \u001b[39m=\u001b[39m api_requestor\u001b[39m.\u001b[39mAPIRequestor(\n\u001b[0;32m    173\u001b[0m     key\u001b[39m=\u001b[39m\u001b[39mself\u001b[39m\u001b[39m.\u001b[39mapi_key,\n\u001b[0;32m    174\u001b[0m     api_base\u001b[39m=\u001b[39m\u001b[39mself\u001b[39m\u001b[39m.\u001b[39mapi_base_override \u001b[39mor\u001b[39;00m \u001b[39mself\u001b[39m\u001b[39m.\u001b[39mapi_base(),\n\u001b[1;32m   (...)\u001b[0m\n\u001b[0;32m    177\u001b[0m     organization\u001b[39m=\u001b[39m\u001b[39mself\u001b[39m\u001b[39m.\u001b[39morganization,\n\u001b[0;32m    178\u001b[0m )\n\u001b[1;32m--> 179\u001b[0m response, stream, api_key \u001b[39m=\u001b[39m requestor\u001b[39m.\u001b[39;49mrequest(\n\u001b[0;32m    180\u001b[0m     method,\n\u001b[0;32m    181\u001b[0m     url,\n\u001b[0;32m    182\u001b[0m     params\u001b[39m=\u001b[39;49mparams,\n\u001b[0;32m    183\u001b[0m     stream\u001b[39m=\u001b[39;49mstream,\n\u001b[0;32m    184\u001b[0m     headers\u001b[39m=\u001b[39;49mheaders,\n\u001b[0;32m    185\u001b[0m     request_id\u001b[39m=\u001b[39;49mrequest_id,\n\u001b[0;32m    186\u001b[0m     request_timeout\u001b[39m=\u001b[39;49mrequest_timeout,\n\u001b[0;32m    187\u001b[0m )\n\u001b[0;32m    189\u001b[0m \u001b[39mif\u001b[39;00m stream:\n\u001b[0;32m    190\u001b[0m     \u001b[39massert\u001b[39;00m \u001b[39mnot\u001b[39;00m \u001b[39misinstance\u001b[39m(response, OpenAIResponse)  \u001b[39m# must be an iterator\u001b[39;00m\n",
      "File \u001b[1;32mc:\\Users\\shrey\\AppData\\Local\\Programs\\Python\\Python39\\lib\\site-packages\\openai\\api_requestor.py:181\u001b[0m, in \u001b[0;36mAPIRequestor.request\u001b[1;34m(self, method, url, params, headers, files, stream, request_id, request_timeout)\u001b[0m\n\u001b[0;32m    160\u001b[0m \u001b[39mdef\u001b[39;00m \u001b[39mrequest\u001b[39m(\n\u001b[0;32m    161\u001b[0m     \u001b[39mself\u001b[39m,\n\u001b[0;32m    162\u001b[0m     method,\n\u001b[1;32m   (...)\u001b[0m\n\u001b[0;32m    169\u001b[0m     request_timeout: Optional[Union[\u001b[39mfloat\u001b[39m, Tuple[\u001b[39mfloat\u001b[39m, \u001b[39mfloat\u001b[39m]]] \u001b[39m=\u001b[39m \u001b[39mNone\u001b[39;00m,\n\u001b[0;32m    170\u001b[0m ) \u001b[39m-\u001b[39m\u001b[39m>\u001b[39m Tuple[Union[OpenAIResponse, Iterator[OpenAIResponse]], \u001b[39mbool\u001b[39m, \u001b[39mstr\u001b[39m]:\n\u001b[0;32m    171\u001b[0m     result \u001b[39m=\u001b[39m \u001b[39mself\u001b[39m\u001b[39m.\u001b[39mrequest_raw(\n\u001b[0;32m    172\u001b[0m         method\u001b[39m.\u001b[39mlower(),\n\u001b[0;32m    173\u001b[0m         url,\n\u001b[1;32m   (...)\u001b[0m\n\u001b[0;32m    179\u001b[0m         request_timeout\u001b[39m=\u001b[39mrequest_timeout,\n\u001b[0;32m    180\u001b[0m     )\n\u001b[1;32m--> 181\u001b[0m     resp, got_stream \u001b[39m=\u001b[39m \u001b[39mself\u001b[39;49m\u001b[39m.\u001b[39;49m_interpret_response(result, stream)\n\u001b[0;32m    182\u001b[0m     \u001b[39mreturn\u001b[39;00m resp, got_stream, \u001b[39mself\u001b[39m\u001b[39m.\u001b[39mapi_key\n",
      "File \u001b[1;32mc:\\Users\\shrey\\AppData\\Local\\Programs\\Python\\Python39\\lib\\site-packages\\openai\\api_requestor.py:396\u001b[0m, in \u001b[0;36mAPIRequestor._interpret_response\u001b[1;34m(self, result, stream)\u001b[0m\n\u001b[0;32m    388\u001b[0m     \u001b[39mreturn\u001b[39;00m (\n\u001b[0;32m    389\u001b[0m         \u001b[39mself\u001b[39m\u001b[39m.\u001b[39m_interpret_response_line(\n\u001b[0;32m    390\u001b[0m             line, result\u001b[39m.\u001b[39mstatus_code, result\u001b[39m.\u001b[39mheaders, stream\u001b[39m=\u001b[39m\u001b[39mTrue\u001b[39;00m\n\u001b[0;32m    391\u001b[0m         )\n\u001b[0;32m    392\u001b[0m         \u001b[39mfor\u001b[39;00m line \u001b[39min\u001b[39;00m parse_stream(result\u001b[39m.\u001b[39miter_lines())\n\u001b[0;32m    393\u001b[0m     ), \u001b[39mTrue\u001b[39;00m\n\u001b[0;32m    394\u001b[0m \u001b[39melse\u001b[39;00m:\n\u001b[0;32m    395\u001b[0m     \u001b[39mreturn\u001b[39;00m (\n\u001b[1;32m--> 396\u001b[0m         \u001b[39mself\u001b[39;49m\u001b[39m.\u001b[39;49m_interpret_response_line(\n\u001b[0;32m    397\u001b[0m             result\u001b[39m.\u001b[39;49mcontent, result\u001b[39m.\u001b[39;49mstatus_code, result\u001b[39m.\u001b[39;49mheaders, stream\u001b[39m=\u001b[39;49m\u001b[39mFalse\u001b[39;49;00m\n\u001b[0;32m    398\u001b[0m         ),\n\u001b[0;32m    399\u001b[0m         \u001b[39mFalse\u001b[39;00m,\n\u001b[0;32m    400\u001b[0m     )\n",
      "File \u001b[1;32mc:\\Users\\shrey\\AppData\\Local\\Programs\\Python\\Python39\\lib\\site-packages\\openai\\api_requestor.py:429\u001b[0m, in \u001b[0;36mAPIRequestor._interpret_response_line\u001b[1;34m(self, rbody, rcode, rheaders, stream)\u001b[0m\n\u001b[0;32m    427\u001b[0m stream_error \u001b[39m=\u001b[39m stream \u001b[39mand\u001b[39;00m \u001b[39m\"\u001b[39m\u001b[39merror\u001b[39m\u001b[39m\"\u001b[39m \u001b[39min\u001b[39;00m resp\u001b[39m.\u001b[39mdata\n\u001b[0;32m    428\u001b[0m \u001b[39mif\u001b[39;00m stream_error \u001b[39mor\u001b[39;00m \u001b[39mnot\u001b[39;00m \u001b[39m200\u001b[39m \u001b[39m<\u001b[39m\u001b[39m=\u001b[39m rcode \u001b[39m<\u001b[39m \u001b[39m300\u001b[39m:\n\u001b[1;32m--> 429\u001b[0m     \u001b[39mraise\u001b[39;00m \u001b[39mself\u001b[39m\u001b[39m.\u001b[39mhandle_error_response(\n\u001b[0;32m    430\u001b[0m         rbody, rcode, resp\u001b[39m.\u001b[39mdata, rheaders, stream_error\u001b[39m=\u001b[39mstream_error\n\u001b[0;32m    431\u001b[0m     )\n\u001b[0;32m    432\u001b[0m \u001b[39mreturn\u001b[39;00m resp\n",
      "\u001b[1;31mRateLimitError\u001b[0m: Rate limit reached for images per minute. Limit: 20/1min. Current: 21/1min. Please visit https://help.openai.com/en/articles/6696591 to learn how to increase your rate limit."
     ]
    }
   ],
   "source": [
    "urls = []\n",
    "detailed_descs = []\n",
    "i=0\n",
    "for desc in data['Description'][5:500]:\n",
    "    response = openai.Image.create(\n",
    "      prompt=desc,\n",
    "      n=3,\n",
    "      size=\"512x512\"\n",
    "    )\n",
    "    current_urls = [x['url'] for x in response['data']]\n",
    "    urls.append(current_urls)\n",
    "    \n",
    "    with open('openai_imgs.txt', 'a') as f:\n",
    "      for img in current_urls:\n",
    "        f.write(\"%s\\n\" % img)\n",
    "      f.write(\"\\n\")\n",
    "\n",
    "    text_resp = openai.Completion.create(\n",
    "      model=\"text-davinci-001\",\n",
    "      prompt=desc,\n",
    "      temperature=0.4,\n",
    "      max_tokens=64,\n",
    "      top_p=1,\n",
    "      frequency_penalty=0,\n",
    "      presence_penalty=0\n",
    "    )\n",
    "    current_desc = text_resp['choices'][0]['text']\n",
    "    detailed_descs.append(current_desc)\n",
    "\n",
    "    with open('openai_desc.txt', 'a') as f:\n",
    "      f.write(\"%s\\n\" % current_desc)\n",
    "    i+=1\n",
    "    print(i)\n"
   ]
  },
  {
   "cell_type": "code",
   "execution_count": 31,
   "id": "59298e8f",
   "metadata": {},
   "outputs": [
    {
     "data": {
      "text/plain": [
       "['\\n\\nThis pretty white hanging heart T-light holder is perfect for adding a touch of romance to any room. It has a metal frame with a heart-shaped cut-out and a white fabric cover. There is a loop at the top for hanging and a metal T-light holder at the bottom.',\n",
       " '\\n\\nThis lantern is made of white metal. It is in the shape of a cylinder with a handle on top. There is a small window on one side, and a metal ring on the top.\\n\\nWhen placed on a flat surface, the lantern stands about 6 inches tall.\\n\\nThis lantern casts a']"
      ]
     },
     "execution_count": 31,
     "metadata": {},
     "output_type": "execute_result"
    }
   ],
   "source": [
    "detailed_descs"
   ]
  },
  {
   "cell_type": "markdown",
   "id": "80894bef",
   "metadata": {},
   "source": [
    "### Cheap recommendation "
   ]
  },
  {
   "cell_type": "code",
   "execution_count": 40,
   "id": "10441157",
   "metadata": {},
   "outputs": [
    {
     "data": {
      "text/plain": [
       "array([7983, 5903, 5128, 4642, 2782, 2491, 2085, 1857, 1677, 1640, 1508,\n",
       "       1420, 1284, 1212, 1165, 1160, 1152, 1128, 1094, 1076, 1061, 1011,\n",
       "        981,  977,  938,  925,  898,  872,  803,  778,  757,  756,  742,\n",
       "        741,  721,  720,  718,  710,  705,  702,  696,  696,  690,  674,\n",
       "        671,  668,  662,  653,  646,  633,  632,  631,  612,  612,  605,\n",
       "        604,  590,  588,  585,  582,  576,  566,  565,  563,  561,  560,\n",
       "        558,  551,  548,  547,  547,  546,  533,  531,  525,  523,  519,\n",
       "        516,  513,  509,  506,  505,  503,  502,  501,  501,  501,  500,\n",
       "        495,  489,  487,  487,  481,  479,  474,  474,  474,  472,  472,\n",
       "        470], dtype=int64)"
      ]
     },
     "execution_count": 40,
     "metadata": {},
     "output_type": "execute_result"
    }
   ],
   "source": [
    "data['CustomerID'].value_counts().values[:100]"
   ]
  },
  {
   "cell_type": "code",
   "execution_count": 41,
   "id": "454eecbc",
   "metadata": {},
   "outputs": [
    {
     "data": {
      "text/plain": [
       "array([1114,  749,  731,  721,  705,  687,  676,  675,  662,  652,  650,\n",
       "        645,  635,  629,  622,  620,  606,  601,  597,  593,  593,  592,\n",
       "        591,  585,  578,  572,  568,  561,  552,  544,  542,  541,  536,\n",
       "        534,  533,  529,  527,  527,  526,  526,  520,  518,  518,  518,\n",
       "        515,  512,  503,  503,  502,  494,  490,  487,  486,  482,  474,\n",
       "        464,  462,  460,  458,  455,  450,  444,  442,  442,  438,  436,\n",
       "        435,  434,  429,  421,  421,  418,  416,  416,  415,  411,  410,\n",
       "        406,  404,  403,  402,  399,  388,  384,  379,  378,  377,  371,\n",
       "        364,  360,  359,  355,  353,  353,  352,  352,  350,  347,  346,\n",
       "        344], dtype=int64)"
      ]
     },
     "execution_count": 41,
     "metadata": {},
     "output_type": "execute_result"
    }
   ],
   "source": [
    "data['InvoiceNo'].value_counts().values[:100]"
   ]
  },
  {
   "cell_type": "code",
   "execution_count": 75,
   "id": "301d7854",
   "metadata": {},
   "outputs": [],
   "source": [
    "word = \"wallet\"\n",
    "similar_items = []\n",
    "for i in range(len(data)):\n",
    "    if word in str(data.iloc[i]['Description']).lower():\n",
    "        vals = data[data['InvoiceNo'] == data.iloc[i]['InvoiceNo']]['Description'].values\n",
    "        similar_items.append(vals)\n",
    "        break\n",
    "        "
   ]
  },
  {
   "cell_type": "code",
   "execution_count": 76,
   "id": "4ea0ffd1",
   "metadata": {},
   "outputs": [
    {
     "data": {
      "text/plain": [
       "[array(['TRAVEL CARD WALLET FLOWER MEADOW', 'TRAVEL CARD WALLET PANTRY',\n",
       "        'TRAVEL CARD WALLET SKULLS', 'TRAVEL CARD WALLET VINTAGE ROSE ',\n",
       "        'TRAVEL CARD WALLET TRANSPORT', 'TRAVEL CARD WALLET RETROSPOT',\n",
       "        'TRAVEL CARD WALLET KEEP CALM', 'SUNFLOWER DECORATIVE PARASOL',\n",
       "        'POLYESTER FILLER PAD 45x45cm', 'SET OF 6 VINTAGE NOTELETS KIT',\n",
       "        'PACK OF 6 BIRDY GIFT TAGS', 'BEADED CRYSTAL HEART BLUE SMALL',\n",
       "        'BEADED CRYSTAL HEART BLUE  LARGE', 'ASSORTED COLOURS SILK FAN',\n",
       "        'ENGLISH ROSE HOT WATER BOTTLE'], dtype=object)]"
      ]
     },
     "execution_count": 76,
     "metadata": {},
     "output_type": "execute_result"
    }
   ],
   "source": [
    "similar_items"
   ]
  },
  {
   "cell_type": "code",
   "execution_count": 35,
   "id": "cffddeee",
   "metadata": {},
   "outputs": [
    {
     "data": {
      "text/plain": [
       "count    406829.000000\n",
       "mean      15287.690570\n",
       "std        1713.600303\n",
       "min       12346.000000\n",
       "25%       13953.000000\n",
       "50%       15152.000000\n",
       "75%       16791.000000\n",
       "max       18287.000000\n",
       "Name: CustomerID, dtype: float64"
      ]
     },
     "execution_count": 35,
     "metadata": {},
     "output_type": "execute_result"
    }
   ],
   "source": [
    "data['CustomerID'].describe()"
   ]
  },
  {
   "cell_type": "code",
   "execution_count": null,
   "id": "b4463c1b",
   "metadata": {},
   "outputs": [],
   "source": []
  }
 ],
 "metadata": {
  "kernelspec": {
   "display_name": "Python 3.9.10 64-bit",
   "language": "python",
   "name": "python3"
  },
  "language_info": {
   "codemirror_mode": {
    "name": "ipython",
    "version": 3
   },
   "file_extension": ".py",
   "mimetype": "text/x-python",
   "name": "python",
   "nbconvert_exporter": "python",
   "pygments_lexer": "ipython3",
   "version": "3.9.10"
  },
  "vscode": {
   "interpreter": {
    "hash": "7fc781d734b03aaf50649f51b85f1717dd603f36c3b9d01c30fafc7d1f894df4"
   }
  }
 },
 "nbformat": 4,
 "nbformat_minor": 5
}
