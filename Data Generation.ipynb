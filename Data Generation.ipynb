{
 "cells": [
  {
   "cell_type": "code",
   "execution_count": 13,
   "id": "e46bd496",
   "metadata": {},
   "outputs": [
    {
     "data": {
      "text/plain": [
       "True"
      ]
     },
     "execution_count": 13,
     "metadata": {},
     "output_type": "execute_result"
    }
   ],
   "source": [
    "import openai\n",
    "import requests\n",
    "import pandas as pd\n",
    "import numpy as np\n",
    "import time\n",
    "import matplotlib.pyplot as plt\n",
    "from PIL import Image\n",
    "from io import BytesIO\n",
    "from dotenv import load_dotenv   #for python-dotenv method\n",
    "load_dotenv()      "
   ]
  },
  {
   "cell_type": "code",
   "execution_count": 18,
   "id": "659d7d2c",
   "metadata": {},
   "outputs": [],
   "source": [
    "openai.api_key = os.getenv(\"API_KEY\")"
   ]
  },
  {
   "cell_type": "code",
   "execution_count": 15,
   "id": "bdc2e5f5",
   "metadata": {},
   "outputs": [],
   "source": [
    "data = pd.read_csv(\"data.csv\", encoding= 'unicode_escape')"
   ]
  },
  {
   "cell_type": "code",
   "execution_count": 16,
   "id": "1e59f23c",
   "metadata": {},
   "outputs": [
    {
     "data": {
      "text/html": [
       "<div>\n",
       "<style scoped>\n",
       "    .dataframe tbody tr th:only-of-type {\n",
       "        vertical-align: middle;\n",
       "    }\n",
       "\n",
       "    .dataframe tbody tr th {\n",
       "        vertical-align: top;\n",
       "    }\n",
       "\n",
       "    .dataframe thead th {\n",
       "        text-align: right;\n",
       "    }\n",
       "</style>\n",
       "<table border=\"1\" class=\"dataframe\">\n",
       "  <thead>\n",
       "    <tr style=\"text-align: right;\">\n",
       "      <th></th>\n",
       "      <th>InvoiceNo</th>\n",
       "      <th>StockCode</th>\n",
       "      <th>Description</th>\n",
       "      <th>Quantity</th>\n",
       "      <th>InvoiceDate</th>\n",
       "      <th>UnitPrice</th>\n",
       "      <th>CustomerID</th>\n",
       "      <th>Country</th>\n",
       "    </tr>\n",
       "  </thead>\n",
       "  <tbody>\n",
       "    <tr>\n",
       "      <th>0</th>\n",
       "      <td>536365</td>\n",
       "      <td>85123A</td>\n",
       "      <td>WHITE HANGING HEART T-LIGHT HOLDER</td>\n",
       "      <td>6</td>\n",
       "      <td>12/1/2010 8:26</td>\n",
       "      <td>2.55</td>\n",
       "      <td>17850.0</td>\n",
       "      <td>United Kingdom</td>\n",
       "    </tr>\n",
       "    <tr>\n",
       "      <th>1</th>\n",
       "      <td>536365</td>\n",
       "      <td>71053</td>\n",
       "      <td>WHITE METAL LANTERN</td>\n",
       "      <td>6</td>\n",
       "      <td>12/1/2010 8:26</td>\n",
       "      <td>3.39</td>\n",
       "      <td>17850.0</td>\n",
       "      <td>United Kingdom</td>\n",
       "    </tr>\n",
       "    <tr>\n",
       "      <th>2</th>\n",
       "      <td>536365</td>\n",
       "      <td>84406B</td>\n",
       "      <td>CREAM CUPID HEARTS COAT HANGER</td>\n",
       "      <td>8</td>\n",
       "      <td>12/1/2010 8:26</td>\n",
       "      <td>2.75</td>\n",
       "      <td>17850.0</td>\n",
       "      <td>United Kingdom</td>\n",
       "    </tr>\n",
       "    <tr>\n",
       "      <th>3</th>\n",
       "      <td>536365</td>\n",
       "      <td>84029G</td>\n",
       "      <td>KNITTED UNION FLAG HOT WATER BOTTLE</td>\n",
       "      <td>6</td>\n",
       "      <td>12/1/2010 8:26</td>\n",
       "      <td>3.39</td>\n",
       "      <td>17850.0</td>\n",
       "      <td>United Kingdom</td>\n",
       "    </tr>\n",
       "    <tr>\n",
       "      <th>4</th>\n",
       "      <td>536365</td>\n",
       "      <td>84029E</td>\n",
       "      <td>RED WOOLLY HOTTIE WHITE HEART.</td>\n",
       "      <td>6</td>\n",
       "      <td>12/1/2010 8:26</td>\n",
       "      <td>3.39</td>\n",
       "      <td>17850.0</td>\n",
       "      <td>United Kingdom</td>\n",
       "    </tr>\n",
       "    <tr>\n",
       "      <th>...</th>\n",
       "      <td>...</td>\n",
       "      <td>...</td>\n",
       "      <td>...</td>\n",
       "      <td>...</td>\n",
       "      <td>...</td>\n",
       "      <td>...</td>\n",
       "      <td>...</td>\n",
       "      <td>...</td>\n",
       "    </tr>\n",
       "    <tr>\n",
       "      <th>541904</th>\n",
       "      <td>581587</td>\n",
       "      <td>22613</td>\n",
       "      <td>PACK OF 20 SPACEBOY NAPKINS</td>\n",
       "      <td>12</td>\n",
       "      <td>12/9/2011 12:50</td>\n",
       "      <td>0.85</td>\n",
       "      <td>12680.0</td>\n",
       "      <td>France</td>\n",
       "    </tr>\n",
       "    <tr>\n",
       "      <th>541905</th>\n",
       "      <td>581587</td>\n",
       "      <td>22899</td>\n",
       "      <td>CHILDREN'S APRON DOLLY GIRL</td>\n",
       "      <td>6</td>\n",
       "      <td>12/9/2011 12:50</td>\n",
       "      <td>2.10</td>\n",
       "      <td>12680.0</td>\n",
       "      <td>France</td>\n",
       "    </tr>\n",
       "    <tr>\n",
       "      <th>541906</th>\n",
       "      <td>581587</td>\n",
       "      <td>23254</td>\n",
       "      <td>CHILDRENS CUTLERY DOLLY GIRL</td>\n",
       "      <td>4</td>\n",
       "      <td>12/9/2011 12:50</td>\n",
       "      <td>4.15</td>\n",
       "      <td>12680.0</td>\n",
       "      <td>France</td>\n",
       "    </tr>\n",
       "    <tr>\n",
       "      <th>541907</th>\n",
       "      <td>581587</td>\n",
       "      <td>23255</td>\n",
       "      <td>CHILDRENS CUTLERY CIRCUS PARADE</td>\n",
       "      <td>4</td>\n",
       "      <td>12/9/2011 12:50</td>\n",
       "      <td>4.15</td>\n",
       "      <td>12680.0</td>\n",
       "      <td>France</td>\n",
       "    </tr>\n",
       "    <tr>\n",
       "      <th>541908</th>\n",
       "      <td>581587</td>\n",
       "      <td>22138</td>\n",
       "      <td>BAKING SET 9 PIECE RETROSPOT</td>\n",
       "      <td>3</td>\n",
       "      <td>12/9/2011 12:50</td>\n",
       "      <td>4.95</td>\n",
       "      <td>12680.0</td>\n",
       "      <td>France</td>\n",
       "    </tr>\n",
       "  </tbody>\n",
       "</table>\n",
       "<p>541909 rows × 8 columns</p>\n",
       "</div>"
      ],
      "text/plain": [
       "       InvoiceNo StockCode                          Description  Quantity  \\\n",
       "0         536365    85123A   WHITE HANGING HEART T-LIGHT HOLDER         6   \n",
       "1         536365     71053                  WHITE METAL LANTERN         6   \n",
       "2         536365    84406B       CREAM CUPID HEARTS COAT HANGER         8   \n",
       "3         536365    84029G  KNITTED UNION FLAG HOT WATER BOTTLE         6   \n",
       "4         536365    84029E       RED WOOLLY HOTTIE WHITE HEART.         6   \n",
       "...          ...       ...                                  ...       ...   \n",
       "541904    581587     22613          PACK OF 20 SPACEBOY NAPKINS        12   \n",
       "541905    581587     22899         CHILDREN'S APRON DOLLY GIRL          6   \n",
       "541906    581587     23254        CHILDRENS CUTLERY DOLLY GIRL          4   \n",
       "541907    581587     23255      CHILDRENS CUTLERY CIRCUS PARADE         4   \n",
       "541908    581587     22138        BAKING SET 9 PIECE RETROSPOT          3   \n",
       "\n",
       "            InvoiceDate  UnitPrice  CustomerID         Country  \n",
       "0        12/1/2010 8:26       2.55     17850.0  United Kingdom  \n",
       "1        12/1/2010 8:26       3.39     17850.0  United Kingdom  \n",
       "2        12/1/2010 8:26       2.75     17850.0  United Kingdom  \n",
       "3        12/1/2010 8:26       3.39     17850.0  United Kingdom  \n",
       "4        12/1/2010 8:26       3.39     17850.0  United Kingdom  \n",
       "...                 ...        ...         ...             ...  \n",
       "541904  12/9/2011 12:50       0.85     12680.0          France  \n",
       "541905  12/9/2011 12:50       2.10     12680.0          France  \n",
       "541906  12/9/2011 12:50       4.15     12680.0          France  \n",
       "541907  12/9/2011 12:50       4.15     12680.0          France  \n",
       "541908  12/9/2011 12:50       4.95     12680.0          France  \n",
       "\n",
       "[541909 rows x 8 columns]"
      ]
     },
     "execution_count": 16,
     "metadata": {},
     "output_type": "execute_result"
    }
   ],
   "source": [
    "data"
   ]
  },
  {
   "cell_type": "code",
   "execution_count": 44,
   "id": "eaf9b6b8",
   "metadata": {},
   "outputs": [
    {
     "data": {
      "text/plain": [
       "'WHITE HANGING HEART T-LIGHT HOLDER'"
      ]
     },
     "execution_count": 44,
     "metadata": {},
     "output_type": "execute_result"
    }
   ],
   "source": [
    "data.iloc[0]['Description']"
   ]
  },
  {
   "cell_type": "code",
   "execution_count": 30,
   "id": "1938544c",
   "metadata": {},
   "outputs": [],
   "source": [
    "urls = []\n",
    "detailed_descs = []\n",
    "for desc in data['Description'][:2]:\n",
    "    response = openai.Image.create(\n",
    "      prompt=desc,\n",
    "      n=5,\n",
    "      size=\"512x512\"\n",
    "    )\n",
    "    \n",
    "    urls.append([x['url'] for x in response['data']])\n",
    "    \n",
    "    text_resp = openai.Completion.create(\n",
    "      model=\"text-davinci-001\",\n",
    "      prompt=desc,\n",
    "      temperature=0.4,\n",
    "      max_tokens=64,\n",
    "      top_p=1,\n",
    "      frequency_penalty=0,\n",
    "      presence_penalty=0\n",
    "    )\n",
    "    \n",
    "    detailed_descs.append(text_resp['choices'][0]['text'])"
   ]
  },
  {
   "cell_type": "code",
   "execution_count": 31,
   "id": "59298e8f",
   "metadata": {},
   "outputs": [
    {
     "data": {
      "text/plain": [
       "['\\n\\nThis pretty white hanging heart T-light holder is perfect for adding a touch of romance to any room. It has a metal frame with a heart-shaped cut-out and a white fabric cover. There is a loop at the top for hanging and a metal T-light holder at the bottom.',\n",
       " '\\n\\nThis lantern is made of white metal. It is in the shape of a cylinder with a handle on top. There is a small window on one side, and a metal ring on the top.\\n\\nWhen placed on a flat surface, the lantern stands about 6 inches tall.\\n\\nThis lantern casts a']"
      ]
     },
     "execution_count": 31,
     "metadata": {},
     "output_type": "execute_result"
    }
   ],
   "source": [
    "detailed_descs"
   ]
  },
  {
   "cell_type": "markdown",
   "id": "80894bef",
   "metadata": {},
   "source": [
    "### Cheap recommendation "
   ]
  },
  {
   "cell_type": "code",
   "execution_count": 40,
   "id": "10441157",
   "metadata": {},
   "outputs": [
    {
     "data": {
      "text/plain": [
       "array([7983, 5903, 5128, 4642, 2782, 2491, 2085, 1857, 1677, 1640, 1508,\n",
       "       1420, 1284, 1212, 1165, 1160, 1152, 1128, 1094, 1076, 1061, 1011,\n",
       "        981,  977,  938,  925,  898,  872,  803,  778,  757,  756,  742,\n",
       "        741,  721,  720,  718,  710,  705,  702,  696,  696,  690,  674,\n",
       "        671,  668,  662,  653,  646,  633,  632,  631,  612,  612,  605,\n",
       "        604,  590,  588,  585,  582,  576,  566,  565,  563,  561,  560,\n",
       "        558,  551,  548,  547,  547,  546,  533,  531,  525,  523,  519,\n",
       "        516,  513,  509,  506,  505,  503,  502,  501,  501,  501,  500,\n",
       "        495,  489,  487,  487,  481,  479,  474,  474,  474,  472,  472,\n",
       "        470], dtype=int64)"
      ]
     },
     "execution_count": 40,
     "metadata": {},
     "output_type": "execute_result"
    }
   ],
   "source": [
    "data['CustomerID'].value_counts().values[:100]"
   ]
  },
  {
   "cell_type": "code",
   "execution_count": 41,
   "id": "454eecbc",
   "metadata": {},
   "outputs": [
    {
     "data": {
      "text/plain": [
       "array([1114,  749,  731,  721,  705,  687,  676,  675,  662,  652,  650,\n",
       "        645,  635,  629,  622,  620,  606,  601,  597,  593,  593,  592,\n",
       "        591,  585,  578,  572,  568,  561,  552,  544,  542,  541,  536,\n",
       "        534,  533,  529,  527,  527,  526,  526,  520,  518,  518,  518,\n",
       "        515,  512,  503,  503,  502,  494,  490,  487,  486,  482,  474,\n",
       "        464,  462,  460,  458,  455,  450,  444,  442,  442,  438,  436,\n",
       "        435,  434,  429,  421,  421,  418,  416,  416,  415,  411,  410,\n",
       "        406,  404,  403,  402,  399,  388,  384,  379,  378,  377,  371,\n",
       "        364,  360,  359,  355,  353,  353,  352,  352,  350,  347,  346,\n",
       "        344], dtype=int64)"
      ]
     },
     "execution_count": 41,
     "metadata": {},
     "output_type": "execute_result"
    }
   ],
   "source": [
    "data['InvoiceNo'].value_counts().values[:100]"
   ]
  },
  {
   "cell_type": "code",
   "execution_count": 75,
   "id": "301d7854",
   "metadata": {},
   "outputs": [],
   "source": [
    "word = \"wallet\"\n",
    "similar_items = []\n",
    "for i in range(len(data)):\n",
    "    if word in str(data.iloc[i]['Description']).lower():\n",
    "        vals = data[data['InvoiceNo'] == data.iloc[i]['InvoiceNo']]['Description'].values\n",
    "        similar_items.append(vals)\n",
    "        break\n",
    "        "
   ]
  },
  {
   "cell_type": "code",
   "execution_count": 76,
   "id": "4ea0ffd1",
   "metadata": {},
   "outputs": [
    {
     "data": {
      "text/plain": [
       "[array(['TRAVEL CARD WALLET FLOWER MEADOW', 'TRAVEL CARD WALLET PANTRY',\n",
       "        'TRAVEL CARD WALLET SKULLS', 'TRAVEL CARD WALLET VINTAGE ROSE ',\n",
       "        'TRAVEL CARD WALLET TRANSPORT', 'TRAVEL CARD WALLET RETROSPOT',\n",
       "        'TRAVEL CARD WALLET KEEP CALM', 'SUNFLOWER DECORATIVE PARASOL',\n",
       "        'POLYESTER FILLER PAD 45x45cm', 'SET OF 6 VINTAGE NOTELETS KIT',\n",
       "        'PACK OF 6 BIRDY GIFT TAGS', 'BEADED CRYSTAL HEART BLUE SMALL',\n",
       "        'BEADED CRYSTAL HEART BLUE  LARGE', 'ASSORTED COLOURS SILK FAN',\n",
       "        'ENGLISH ROSE HOT WATER BOTTLE'], dtype=object)]"
      ]
     },
     "execution_count": 76,
     "metadata": {},
     "output_type": "execute_result"
    }
   ],
   "source": [
    "similar_items"
   ]
  },
  {
   "cell_type": "code",
   "execution_count": 35,
   "id": "cffddeee",
   "metadata": {},
   "outputs": [
    {
     "data": {
      "text/plain": [
       "count    406829.000000\n",
       "mean      15287.690570\n",
       "std        1713.600303\n",
       "min       12346.000000\n",
       "25%       13953.000000\n",
       "50%       15152.000000\n",
       "75%       16791.000000\n",
       "max       18287.000000\n",
       "Name: CustomerID, dtype: float64"
      ]
     },
     "execution_count": 35,
     "metadata": {},
     "output_type": "execute_result"
    }
   ],
   "source": [
    "data['CustomerID'].describe()"
   ]
  },
  {
   "cell_type": "code",
   "execution_count": null,
   "id": "b4463c1b",
   "metadata": {},
   "outputs": [],
   "source": []
  }
 ],
 "metadata": {
  "kernelspec": {
   "display_name": "Python 3 (ipykernel)",
   "language": "python",
   "name": "python3"
  },
  "language_info": {
   "codemirror_mode": {
    "name": "ipython",
    "version": 3
   },
   "file_extension": ".py",
   "mimetype": "text/x-python",
   "name": "python",
   "nbconvert_exporter": "python",
   "pygments_lexer": "ipython3",
   "version": "3.9.10"
  }
 },
 "nbformat": 4,
 "nbformat_minor": 5
}
